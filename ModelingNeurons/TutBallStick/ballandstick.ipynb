{
 "cells": [
  {
   "cell_type": "markdown",
   "metadata": {},
   "source": [
    "# NEURON tutorial: Ball-and-stick electrical model with synapse"
   ]
  },
  {
   "cell_type": "markdown",
   "metadata": {},
   "source": [
    "## Introduction"
   ]
  },
  {
   "cell_type": "markdown",
   "metadata": {},
   "source": [
    "In this tutorial I will give an introduction to the NEURON simulator. You will learn how to:\n",
    "* **Load** the NEURON simulator in Python\n",
    "* Construct a **single compartmental electrical** model\n",
    "* **Run a simulation**, record the membrane voltage of the model and inject an external current\n",
    "* **Add ion channels** to the membrane of the model\n",
    "* Extend the model with a simple **dendrite**\n",
    "* **Add a synapse** to the model\n",
    "* **Connect** two cells"
   ]
  },
  {
   "cell_type": "markdown",
   "metadata": {
    "collapsed": true
   },
   "source": [
    "## Loading the NEURON simulator"
   ]
  },
  {
   "cell_type": "markdown",
   "metadata": {
    "collapsed": true
   },
   "source": [
    "We first import the NEURON Python module"
   ]
  },
  {
   "cell_type": "code",
   "execution_count": 1,
   "metadata": {
    "collapsed": true
   },
   "outputs": [],
   "source": [
    "import neuron"
   ]
  },
  {
   "cell_type": "markdown",
   "metadata": {},
   "source": [
    "Historically the NEURON simulator was controlled using the [HOC language](https://www.neuron.yale.edu/neuron/static/new_doc/programming/hocsyntax.html).\n",
    "More and more scientists are switching to the Python interface of NEURON. In Python there is something called the [HOCObject](https://www.neuron.yale.edu/neuron/static/docs/help/neuron/neuron/classes/python.html#HocObject) which be accessed by 'h' property of the neuron module, and which contains the HOC functionality of NEURON. For example, to load the 'stdrun.hoc' file which contains some handy functionality one calls the HOC function load_file using:"
   ]
  },
  {
   "cell_type": "code",
   "execution_count": 2,
   "metadata": {
    "collapsed": false
   },
   "outputs": [
    {
     "name": "stdout",
     "output_type": "stream",
     "text": [
      "<TopLevelHocInterpreter>\n"
     ]
    }
   ],
   "source": [
    "print neuron.h\n",
    "# Load external files\n",
    "neuron.h.load_file(\"stdrun.hoc\");"
   ]
  },
  {
   "cell_type": "markdown",
   "metadata": {},
   "source": [
    "To make sure we start from a clean state we initialise the simulator"
   ]
  },
  {
   "cell_type": "code",
   "execution_count": 3,
   "metadata": {
    "collapsed": false
   },
   "outputs": [],
   "source": [
    "neuron.h.stdinit();"
   ]
  },
  {
   "cell_type": "markdown",
   "metadata": {},
   "source": [
    "It is important to know that all the values used in NEURON have a certain default unit. \n",
    "The list of the defaults can be accessed here: https://www.neuron.yale.edu/neuron/static/docs/units/unitchart.html\n",
    "\n",
    "For now the most important ones are:\n",
    "* **length**: micrometer (um)\n",
    "* **time**: milliseconds (ms)\n",
    "* **voltage**: millivolt (mV)\n",
    "* **capacitance**: microfarad/cm2 (uf/cm2)"
   ]
  },
  {
   "cell_type": "markdown",
   "metadata": {},
   "source": [
    "## Constructing a neuron consisting of one compartment"
   ]
  },
  {
   "cell_type": "markdown",
   "metadata": {},
   "source": [
    "The basic structure of a cell in NEURON is a set of interconnected cylinders (called segments or compartments). Each of these cylinders represents an isopotential part of the cell.\n",
    "\n",
    "![Segments](./segments.jpg)\n",
    "\n",
    "!Add reference to book Computational modelling for neuroscientists!\n",
    "\n",
    "The segments between the branch points are grouped together in sections."
   ]
  },
  {
   "cell_type": "markdown",
   "metadata": {},
   "source": [
    "The soma of our cell is one section of the cell.\n",
    "Let's start with creating a cell with just a soma:"
   ]
  },
  {
   "cell_type": "code",
   "execution_count": 4,
   "metadata": {
    "collapsed": false
   },
   "outputs": [
    {
     "name": "stdout",
     "output_type": "stream",
     "text": [
      "Soma object: soma\n",
      "Soma object name:  soma\n",
      "Number of segments in the soma: 1\n"
     ]
    }
   ],
   "source": [
    "soma = neuron.h.Section(name='soma')\n",
    "\n",
    "print \"Soma object:\", soma\n",
    "print \"Soma object name: \", soma.name()\n",
    "\n",
    "print \"Number of segments in the soma:\", soma.nseg"
   ]
  },
  {
   "cell_type": "markdown",
   "metadata": {},
   "source": [
    "Just as every other section in NEURON, the soma is represented as a cylinder. We can set the length and diameter of this section."
   ]
  },
  {
   "cell_type": "code",
   "execution_count": 5,
   "metadata": {
    "collapsed": false
   },
   "outputs": [
    {
     "name": "stdout",
     "output_type": "stream",
     "text": [
      "Soma length: 40.000000 micron\n",
      "Soma diameter: 40.000000 micron\n"
     ]
    }
   ],
   "source": [
    "soma.L = 40\n",
    "soma.diam = 40\n",
    "print \"Soma length: %f micron\" % soma.L \n",
    "print \"Soma diameter: %f micron\" % soma.diam\n",
    "\n",
    "# plot this in some way"
   ]
  },
  {
   "cell_type": "markdown",
   "metadata": {},
   "source": [
    "We can calculate the surface area of the soma using the 'area()' function, and compare it to the equation to calculate the surface area of a cylinder:"
   ]
  },
  {
   "cell_type": "code",
   "execution_count": 6,
   "metadata": {
    "collapsed": false
   },
   "outputs": [
    {
     "name": "stdout",
     "output_type": "stream",
     "text": [
      "Soma area according to cylinder surface area equation: 5026.548246 micron^2\n",
      "Soma area according to NEURON: 5026.548246 micron^2\n",
      "Both values match: True\n"
     ]
    }
   ],
   "source": [
    "soma_area_eq = 2 * neuron.h.PI * soma.L * soma.diam / 2\n",
    "print \"Soma area according to cylinder surface area equation: %f micron^2\" % soma_area_eq\n",
    "\n",
    "# The 0.5 refers to the segment in the middle of the soma\n",
    "# Because there is only one segment, in this case it refers to the entire soma\n",
    "soma_area = neuron.h.area(0.5, sec=soma)\n",
    "print \"Soma area according to NEURON: %f micron^2\" % soma_area\n",
    "\n",
    "print \"Both values match: %s\" % (soma_area_eq == soma_area)"
   ]
  },
  {
   "cell_type": "markdown",
   "metadata": {},
   "source": [
    "In a real neuron the soma of a neuron is rather spherical than cylindrical. You might have found it strange that we represent the soma by a cylinder in NEURON. However, the following equation shows that it actually doesn't really matter, the surface area of a sphere with the same radius is exactly the same:"
   ]
  },
  {
   "cell_type": "code",
   "execution_count": 7,
   "metadata": {
    "collapsed": false
   },
   "outputs": [
    {
     "name": "stdout",
     "output_type": "stream",
     "text": [
      "Soma area according to sphere surface area equation: 5026.548246 micron^2\n"
     ]
    }
   ],
   "source": [
    "soma_sphere_area_eq = 4 * neuron.h.PI * pow(soma.diam / 2, 2)\n",
    "print \"Soma area according to sphere surface area equation: %f micron^2\" % soma_sphere_area_eq"
   ]
  },
  {
   "cell_type": "markdown",
   "metadata": {},
   "source": [
    "So now we have defined the shape of this single compartmental cell. Electrically the only component that is present for now is the [capacitance](https://en.wikipedia.org/wiki/Capacitance) of the cell membrane. We can retrieve or set the specific membrane capacitance by accessing the 'cm' field. The units of this field are microFarad per cm2. You will see that in NEURON most quantities related to the surface currents are specified per membrane surface area."
   ]
  },
  {
   "cell_type": "code",
   "execution_count": 8,
   "metadata": {
    "collapsed": false
   },
   "outputs": [
    {
     "name": "stdout",
     "output_type": "stream",
     "text": [
      "Specific capacitance: 1.000000 uf/cm2\n"
     ]
    }
   ],
   "source": [
    "print \"Specific capacitance: %f uf/cm2\" % soma.cm"
   ]
  },
  {
   "cell_type": "markdown",
   "metadata": {},
   "source": [
    "To get the total capacitance of the soma, we have to multiply this by the area. We have to be careful with the units though !"
   ]
  },
  {
   "cell_type": "code",
   "execution_count": 9,
   "metadata": {
    "collapsed": false
   },
   "outputs": [
    {
     "name": "stdout",
     "output_type": "stream",
     "text": [
      "Total soma capacitance: 0.000050 uf\n"
     ]
    }
   ],
   "source": [
    "soma_tcap = (soma.cm * (soma_area / pow(1e4, 2)))\n",
    "print \"Total soma capacitance: %f uf\" % (soma.cm * (soma_area / pow(1e4, 2)))"
   ]
  },
  {
   "cell_type": "markdown",
   "metadata": {},
   "source": [
    "## Running a simulation"
   ]
  },
  {
   "cell_type": "markdown",
   "metadata": {},
   "source": [
    "Let's now run a simulation over time. We will record the [membrane voltage](https://en.wikipedia.org/wiki/Membrane_potential) in the middle of the soma during the simulation:"
   ]
  },
  {
   "cell_type": "code",
   "execution_count": 10,
   "metadata": {
    "collapsed": false
   },
   "outputs": [
    {
     "name": "stdout",
     "output_type": "stream",
     "text": [
      "Membrane voltage soma: -65.000000 mV\n"
     ]
    }
   ],
   "source": [
    "print \"Membrane voltage soma: %f mV\" % soma(.5).v # mV"
   ]
  },
  {
   "cell_type": "markdown",
   "metadata": {},
   "source": [
    "As you can see the voltage of the cell has been initialised to -65 mV, which roughly corresponds to a typical value in neurons at rest (also called the *resting membrane potential*)."
   ]
  },
  {
   "cell_type": "markdown",
   "metadata": {},
   "source": [
    "The simulator will integrate the equations over time. The current time is saved in a variable called 't':"
   ]
  },
  {
   "cell_type": "code",
   "execution_count": 11,
   "metadata": {
    "collapsed": false
   },
   "outputs": [
    {
     "name": "stdout",
     "output_type": "stream",
     "text": [
      "Current time: 0.000000 ms\n"
     ]
    }
   ],
   "source": [
    "print \"Current time: %f ms\" % neuron.h.t # ms"
   ]
  },
  {
   "cell_type": "markdown",
   "metadata": {},
   "source": [
    "When the run() function is called, the simulation will run until a predefined time stored in the the 'tstop' variable. Every timestep, defined by 'dt', a new voltage value will be calculated. "
   ]
  },
  {
   "cell_type": "code",
   "execution_count": 12,
   "metadata": {
    "collapsed": false
   },
   "outputs": [
    {
     "name": "stdout",
     "output_type": "stream",
     "text": [
      "Simulation stop time: 100.000000 ms\n",
      "Integration time step: 0.025000 ms\n"
     ]
    }
   ],
   "source": [
    "neuron.h.tstop = 100\n",
    "print \"Simulation stop time: %f ms\" % neuron.h.tstop\n",
    "print \"Integration time step: %f ms\" % neuron.h.dt"
   ]
  },
  {
   "cell_type": "markdown",
   "metadata": {},
   "source": [
    "To record the time and voltage we create two NEURON Vector objects. These objects have a 'record' method that, when passed a reference to a variable, will record the value of that variable in the vector during the simulation."
   ]
  },
  {
   "cell_type": "code",
   "execution_count": 13,
   "metadata": {
    "collapsed": false
   },
   "outputs": [],
   "source": [
    "time = neuron.h.Vector()\n",
    "voltage = neuron.h.Vector()\n",
    "\n",
    "time.record(neuron.h._ref_t)\n",
    "voltage.record(soma(.5)._ref_v);"
   ]
  },
  {
   "cell_type": "code",
   "execution_count": 14,
   "metadata": {
    "collapsed": false
   },
   "outputs": [
    {
     "data": {
      "image/png": "[encoded data removed]",
      "text/plain": [
       "<matplotlib.figure.Figure at 0x1061b7350>"
      ]
     },
     "metadata": {},
     "output_type": "display_data"
    }
   ],
   "source": [
    "neuron.h.run()\n",
    "\n",
    "# Convert the NEURON vectors to numpy arrays\n",
    "time_py = time.to_python()\n",
    "voltage_py = voltage.to_python()\n",
    "\n",
    "def plot_tv(time_array, voltage_array, show=True, label=None, constants=[]):\n",
    "    import matplotlib.pyplot as plt\n",
    "    import numpy\n",
    "    plt.plot(time_array, voltage_array, label=label)\n",
    "    for constant in constants:\n",
    "        plt.plot(time_array, constant*numpy.ones(len(time_array)))\n",
    "    plt.xlabel('Time (ms)')\n",
    "    plt.ylabel('Membrane voltage (mV)')\n",
    "    if show:\n",
    "        plt.show()\n",
    "    \n",
    "plot_tv(time_py, voltage_py)"
   ]
  },
  {
   "cell_type": "markdown",
   "metadata": {},
   "source": [
    "So, basically the voltage has stayed the same over time. We can see why this happened by looking at the following equation NEURON is integrating:\n",
    "\n",
    "$$C_{m} dV/dt = I_{m}$$\n",
    "\n",
    "Basically the change in voltage is related to the current going across the membrane. Since we don't have any mechanisms that allow currents to cross the membrane, $I_{m}$ is zero, and our voltage stay the same:\n",
    "\n",
    "$$dV = I_{m} dt/C_{m}$$"
   ]
  },
  {
   "cell_type": "markdown",
   "metadata": {},
   "source": [
    "## Injecting a current"
   ]
  },
  {
   "cell_type": "markdown",
   "metadata": {},
   "source": [
    "Let's now see how we can charge the cell membrane capacitance. For this we stick a virtual electrode in the center of the soma, and inject current using a [current clamp](https://en.wikipedia.org/wiki/Electrophysiology#Current_clamp). We specify an amplitude (in nA), a delay and a duration for our stimulus."
   ]
  },
  {
   "cell_type": "code",
   "execution_count": 15,
   "metadata": {
    "collapsed": true
   },
   "outputs": [],
   "source": [
    "# Add figure ?\n",
    "iclamp = neuron.h.IClamp(.5, sec=soma)\n",
    "iclamp.amp = 0.1 # nA\n",
    "iclamp.delay = 10 # ms\n",
    "iclamp.dur = 50 # ms"
   ]
  },
  {
   "cell_type": "code",
   "execution_count": 16,
   "metadata": {
    "collapsed": false
   },
   "outputs": [
    {
     "data": {
      "image/png": "[encoded data removed]",
      "text/plain": [
       "<matplotlib.figure.Figure at 0x106048750>"
      ]
     },
     "metadata": {},
     "output_type": "display_data"
    }
   ],
   "source": [
    "neuron.h.run()\n",
    "\n",
    "# Convert the NEURON vectors to numpy arrays\n",
    "time_py = time.to_python()\n",
    "voltage_py = voltage.to_python()\n",
    "\n",
    "plot_tv(time_py, voltage_py)"
   ]
  },
  {
   "cell_type": "markdown",
   "metadata": {},
   "source": [
    "Let's check if this is the value we expected from the equation\n",
    "\n",
    "$$C_{m} dV/dt = I_{m}$$"
   ]
  },
  {
   "cell_type": "code",
   "execution_count": 17,
   "metadata": {
    "collapsed": false
   },
   "outputs": [
    {
     "name": "stdout",
     "output_type": "stream",
     "text": [
      "Observed dV: 99.471839 mV\n",
      "Calculated dV: 99.471839 mV\n",
      "Simulated dV matches equation dV: True\n"
     ]
    }
   ],
   "source": [
    "V1 = -65 # Voltage before stimulus, mV\n",
    "V2 = soma.v # Voltage after stimulus, mV\n",
    "deltaV = V2 - V1 # Voltage difference, mV\n",
    "Im = iclamp.amp # nA\n",
    "deltaT = iclamp.dur # ms\n",
    "soma_tcap # total soma membrane capacitance, uF\n",
    "\n",
    "deltaV_eq = Im * deltaT / soma_tcap # in nA * ms / uF == microvolt\n",
    "deltaV_eq /= 1e3 # Correction factor to get mV\n",
    "\n",
    "print 'Observed dV: %f mV' % deltaV\n",
    "print 'Calculated dV: %f mV' % deltaV_eq\n",
    "print 'Simulated dV matches equation dV: %s' % (deltaV - deltaV_eq < 1e-6)"
   ]
  },
  {
   "cell_type": "markdown",
   "metadata": {},
   "source": [
    "## Adding a leak conductance"
   ]
  },
  {
   "cell_type": "markdown",
   "metadata": {},
   "source": [
    "We'll now start adding transmembrane currents to the model as described in the [Hodgkin-Huxley model](https://en.wikipedia.org/wiki/Hodgkin–Huxley_model).\n",
    "To enable the equations for this model, we insert the 'hh' mechanism in the soma:"
   ]
  },
  {
   "cell_type": "code",
   "execution_count": 18,
   "metadata": {
    "collapsed": false
   },
   "outputs": [],
   "source": [
    "soma.insert('hh');"
   ]
  },
  {
   "cell_type": "markdown",
   "metadata": {},
   "source": [
    "Now NEURON will integrate the following equation to get calculate the membrane voltage over time:\n",
    "\n",
    "$$C_{m} dV/dt = I_{Na} + I_{K} + I_{leak} + I_{ext} = g_{Na}(V)*(V - E_{Na}) + g_{K}(V)*(V - E_{K}) + g_{leak}*(V - E_{leak}) + I_{ext}$$\n",
    "\n",
    "We have a sodium and potassium current with voltage dependent conductance and a leakage current with a voltage independent conductance."
   ]
  },
  {
   "cell_type": "markdown",
   "metadata": {},
   "source": [
    "Initially we'll set the Na and K conductance to zero:"
   ]
  },
  {
   "cell_type": "code",
   "execution_count": 19,
   "metadata": {
    "collapsed": false
   },
   "outputs": [],
   "source": [
    "soma.gkbar_hh = 0.0\n",
    "soma.gnabar_hh = 0.0"
   ]
  },
  {
   "cell_type": "markdown",
   "metadata": {},
   "source": [
    "So we get:\n",
    "\n",
    "$$C_{m} dV/dt = g_{leak}*(V - E_{leak}) + I_{ext}$$"
   ]
  },
  {
   "cell_type": "markdown",
   "metadata": {},
   "source": [
    "The value for the leak conductance is set using the 'gl_hh' attribute ('hh' refers to the name of the mechanism, 'gl' to the name of the parameter inside the 'hh' description). "
   ]
  },
  {
   "cell_type": "code",
   "execution_count": 20,
   "metadata": {
    "collapsed": true
   },
   "outputs": [],
   "source": [
    "soma.gl_hh = 5e-4 # Leak conductance, S/cm^2"
   ]
  },
  {
   "cell_type": "markdown",
   "metadata": {
    "collapsed": true
   },
   "source": [
    "The 'el_hh' attribute sets the reversal potential. We call this the 'reversal' potential because the value responses the membrane voltage at which the leak current changes polarity. It's the potential towards this channel 'pushes' the membrane voltage. Let's set the value equal to the resting membrane potential of the cell, so that we have a force that tries to maintain the -65 mV."
   ]
  },
  {
   "cell_type": "code",
   "execution_count": 21,
   "metadata": {
    "collapsed": false
   },
   "outputs": [
    {
     "name": "stdout",
     "output_type": "stream",
     "text": [
      "Reveral of leak current: -65.000000 mV\n"
     ]
    }
   ],
   "source": [
    "el = soma.el_hh = -65 # Reversal potential leak current, mV\n",
    "print \"Reveral of leak current: %f mV\" % el"
   ]
  },
  {
   "cell_type": "code",
   "execution_count": 22,
   "metadata": {
    "collapsed": false
   },
   "outputs": [
    {
     "data": {
      "image/png": "[encoded data removed]",
      "text/plain": [
       "<matplotlib.figure.Figure at 0x106d7a590>"
      ]
     },
     "metadata": {},
     "output_type": "display_data"
    }
   ],
   "source": [
    "soma.gkbar_hh = 0.0\n",
    "soma.gnabar_hh = 0.0\n",
    "\n",
    "neuron.h.tstop = 100\n",
    "\n",
    "neuron.h.run()\n",
    "\n",
    "# Convert the NEURON vectors to numpy arrays\n",
    "time_py = time.to_python()\n",
    "voltage_py = voltage.to_python()\n",
    "\n",
    "plot_tv(time_py, voltage_py)"
   ]
  },
  {
   "cell_type": "markdown",
   "metadata": {},
   "source": [
    "**Question**: Compare this graph to the previous one. If you look at the equation, do you understand why the voltage flattens out at the end of the stimulus ? \n",
    "**Exercise**: Calculate the voltage between 40 and 60 ms. "
   ]
  },
  {
   "cell_type": "markdown",
   "metadata": {},
   "source": [
    "# Adding active ion channels"
   ]
  },
  {
   "cell_type": "markdown",
   "metadata": {
    "collapsed": true
   },
   "source": [
    "Now we are adding the active voltage dependent ion channels of the Hodgkin-Huxley mechanism."
   ]
  },
  {
   "cell_type": "markdown",
   "metadata": {},
   "source": [
    "$$C_{m} dV/dt = g_{Na}(V)(V - E_{Na}) + g_{K}(V)(V - E_{K}) + g_{leak}(V - E_{leak}) + I_{ext} ={\\overline{g}}_{Na}m^{3}(V - E_{Na}) + {\\overline{g}}_{K}h(V - E_{K}) + g_{leak}(V - E_{leak}) + I_{ext}$$"
   ]
  },
  {
   "cell_type": "markdown",
   "metadata": {},
   "source": [
    "The conductance gna and gk are decomposed it gnabar*m^3 and gkbar*h. The gnabar and gkbar are parameters of the model that are expressed in siemens/cm^2. The basically represent the density of the ion channels on the membrane. Let's set these to a value different than 0.\n",
    "When we then run the model, we see that we now have action potential potentials."
   ]
  },
  {
   "cell_type": "code",
   "execution_count": 23,
   "metadata": {
    "collapsed": false
   },
   "outputs": [
    {
     "data": {
      "image/png": "[encoded data removed]",
      "text/plain": [
       "<matplotlib.figure.Figure at 0x106e96190>"
      ]
     },
     "metadata": {},
     "output_type": "display_data"
    }
   ],
   "source": [
    "soma.gkbar_hh = 0.01 # in S/cm^2\n",
    "soma.gnabar_hh = 0.1\n",
    "\n",
    "neuron.h.run()\n",
    "\n",
    "# Convert the NEURON vectors to numpy arrays\n",
    "time_py = time.to_python()\n",
    "voltage_py = voltage.to_python()\n",
    "\n",
    "plot_tv(time_py, voltage_py)"
   ]
  },
  {
   "cell_type": "markdown",
   "metadata": {},
   "source": [
    "To explain what happened, we can have a look at the reversal potentials of Na and K:"
   ]
  },
  {
   "cell_type": "code",
   "execution_count": 24,
   "metadata": {
    "collapsed": false
   },
   "outputs": [
    {
     "name": "stdout",
     "output_type": "stream",
     "text": [
      "Na reversal: 50.000000\n",
      "K reversal: -77.000000\n",
      "Leak reversal: -65.000000\n"
     ]
    },
    {
     "data": {
      "image/png": "[encoded data removed]",
      "text/plain": [
       "<matplotlib.figure.Figure at 0x106fa64d0>"
      ]
     },
     "metadata": {},
     "output_type": "display_data"
    }
   ],
   "source": [
    "ena = soma.ena # explain e_na\n",
    "ek = soma.ek\n",
    "\n",
    "print \"Na reversal: %f\" % ena\n",
    "print \"K reversal: %f\" % ek\n",
    "print \"Leak reversal: %f\" % el\n",
    "\n",
    "plot_tv(time_py, voltage_py, constants=[ena, ek, el])"
   ]
  },
  {
   "cell_type": "markdown",
   "metadata": {},
   "source": [
    "The three horizontal lines show the reversal potentials. During an action potential the positive ena pulls the membrane potential to 50 mV, but after a while it gets inactivated and the potassium kicks in to pull the voltage back towards -77 mV. When the cell is at rest, the el keeps it around -65 mV."
   ]
  },
  {
   "cell_type": "markdown",
   "metadata": {},
   "source": [
    "## Parameter sensitivity"
   ]
  },
  {
   "cell_type": "markdown",
   "metadata": {},
   "source": [
    "Let's see what happens when we change some of the parameters. When we change the value of gnabar, it changes the maximum height of the action potential:"
   ]
  },
  {
   "cell_type": "code",
   "execution_count": 25,
   "metadata": {
    "collapsed": false
   },
   "outputs": [
    {
     "data": {
      "image/png": "[encoded data removed]",
      "text/plain": [
       "<matplotlib.figure.Figure at 0x107065850>"
      ]
     },
     "metadata": {},
     "output_type": "display_data"
    }
   ],
   "source": [
    "import matplotlib.pyplot as plt\n",
    "import numpy\n",
    "\n",
    "for gnabar in [0.1, 0.15]:\n",
    "    soma.gkbar_hh = 0.01\n",
    "    soma.gnabar_hh = gnabar\n",
    "\n",
    "    neuron.h.tstop=30\n",
    "\n",
    "    neuron.h.run()\n",
    "\n",
    "    # Convert the NEURON vectors to numpy arrays\n",
    "    time_py = time.to_python()\n",
    "    voltage_py = voltage.to_python()\n",
    "\n",
    "    plt.plot(time_py, max(voltage_py)*numpy.ones(len(time_py)), 'r')\n",
    "    plot_tv(time_py, voltage_py, show=False)\n",
    "\n",
    "plt.show()"
   ]
  },
  {
   "cell_type": "markdown",
   "metadata": {},
   "source": [
    "When we do this same experiment for many values of gnabar, we can plot the AP height <-> gnabar relationship "
   ]
  },
  {
   "cell_type": "code",
   "execution_count": 26,
   "metadata": {
    "collapsed": false
   },
   "outputs": [
    {
     "data": {
      "image/png": "[encoded data removed]",
      "text/plain": [
       "<matplotlib.figure.Figure at 0x107174cd0>"
      ]
     },
     "metadata": {},
     "output_type": "display_data"
    }
   ],
   "source": [
    "soma.gkbar_hh = 0.01\n",
    "\n",
    "# definitely mention critical value where state changes\n",
    "# show something with percentages\n",
    "# show value we were using before on plot\n",
    "\n",
    "max_voltages = []\n",
    "import numpy\n",
    "gnabar_range = numpy.arange(.05, 0.2, 0.001)\n",
    "for gnabar in gnabar_range:\n",
    "    soma.gnabar_hh = gnabar\n",
    "\n",
    "    neuron.h.run()\n",
    "\n",
    "    # Convert the NEURON vectors to numpy arrays\n",
    "    time_py = time.to_python()\n",
    "    voltage_py = voltage.to_python()\n",
    "    \n",
    "    max_voltages.append(max(voltage_py))\n",
    "\n",
    "plt.plot(gnabar_range, max_voltages, 'oC0')\n",
    "plt.xlabel('gnabar (S/cm2)')\n",
    "plt.ylabel('Maximum AP voltage')\n",
    "for xs in [0.1, 0.15]:\n",
    "    plt.axvline(x=xs, color='r')\n",
    "plt.show()"
   ]
  },
  {
   "cell_type": "markdown",
   "metadata": {},
   "source": [
    "The vertical lines show the parameter values we used in the previous plot.\n",
    "The plot dots are the AP heights at different values of gnabar. Around 0.08 S/cm^2 there is discontinuity, it represent the point at which the neuron starts firing APs."
   ]
  },
  {
   "cell_type": "markdown",
   "metadata": {},
   "source": [
    "## Exercise\n",
    "\n",
    "Do the same as above with a range of potassium of [.001, 0.012] and step size 0.001.\n",
    "\n",
    "Plot the results and try to fit a linear\n",
    "Use the following numpy function for this:"
   ]
  },
  {
   "cell_type": "code",
   "execution_count": 27,
   "metadata": {
    "collapsed": false
   },
   "outputs": [],
   "source": [
    "# linear_coef = numpy.polyfit(gkbar_range, max_voltages, 1)\n",
    "\n",
    "# print 'Linear equation max_voltage = %f*gkbar + %f' % tuple([x for x in linear_coef])"
   ]
  },
  {
   "cell_type": "markdown",
   "metadata": {},
   "source": [
    "Send us the two coefficients retrieved by this method."
   ]
  },
  {
   "cell_type": "code",
   "execution_count": 28,
   "metadata": {
    "collapsed": false
   },
   "outputs": [
    {
     "name": "stdout",
     "output_type": "stream",
     "text": [
      "Linear equation max_voltage = -451.860461*gkbar + 47.203047\n"
     ]
    },
    {
     "data": {
      "image/png": "[encoded data removed]",
      "text/plain": [
       "<matplotlib.figure.Figure at 0x106fb6310>"
      ]
     },
     "metadata": {},
     "output_type": "display_data"
    }
   ],
   "source": [
    "# Solution\n",
    "soma.gnabar_hh = 0.1\n",
    "\n",
    "max_voltages = []\n",
    "gkbar_range = numpy.arange(.001, 0.012, 0.001)\n",
    "import numpy\n",
    "for gkbar in gkbar_range:\n",
    "    soma.gkbar_hh = gkbar\n",
    "\n",
    "    neuron.h.run()\n",
    "\n",
    "    # Convert the NEURON vectors to numpy arrays\n",
    "    time_py = time.to_python()\n",
    "    voltage_py = voltage.to_python()\n",
    "    \n",
    "    max_voltages.append(max(voltage_py))\n",
    "\n",
    "plt.plot(gkbar_range, max_voltages, 'o')\n",
    "\n",
    "linear_coef = numpy.polyfit(gkbar_range, max_voltages, 1)\n",
    "print 'Linear equation max_voltage = %f*gkbar + %f' % tuple([x for x in linear_coef])\n",
    "\n",
    "plt.plot(gkbar_range, numpy.poly1d(linear_coef)(gkbar_range))\n",
    "plt.xlabel('gkbar (S/cm2)')\n",
    "plt.ylabel('Maximal AP voltage')\n",
    "\n",
    "plt.show()"
   ]
  },
  {
   "cell_type": "markdown",
   "metadata": {
    "collapsed": true
   },
   "source": [
    "## Extending the model with a dendrite"
   ]
  },
  {
   "cell_type": "markdown",
   "metadata": {},
   "source": [
    "Until now we working with a single compartmental model. We can create an extra dendritic section, and connect it to the soma: "
   ]
  },
  {
   "cell_type": "code",
   "execution_count": 29,
   "metadata": {
    "collapsed": true
   },
   "outputs": [],
   "source": [
    "dend = neuron.h.Section(name='dend')\n",
    "\n",
    "dend.connect(soma)\n",
    "\n",
    "dend.L = 400 # micron\n",
    "dend.diam = 2.0 # micron\n",
    "dend.nseg = 10 # number of segments in the dendritic section"
   ]
  },
  {
   "cell_type": "markdown",
   "metadata": {},
   "source": [
    "We will add the hh mechanism to the dendrite, but we will make it passive, meaning that the sodium and potassium channels are disabled."
   ]
  },
  {
   "cell_type": "code",
   "execution_count": 30,
   "metadata": {
    "collapsed": false
   },
   "outputs": [],
   "source": [
    "dend.insert('hh')\n",
    "dend.el_hh = -65 # Reversal potential leak current, mV\n",
    "dend.gl_hh = 5e-4 # Leak conductance, S/cm^2\n",
    "\n",
    "dend.gkbar_hh = 0.0\n",
    "dend.gnabar_hh = 0.0"
   ]
  },
  {
   "cell_type": "markdown",
   "metadata": {},
   "source": [
    "Now we can look at what the effect is on our simulation.\n",
    "We run the simulation twice, once with dendrites, once without."
   ]
  },
  {
   "cell_type": "code",
   "execution_count": 31,
   "metadata": {
    "collapsed": false
   },
   "outputs": [
    {
     "data": {
      "image/png": "[encoded data removed]",
      "text/plain": [
       "<matplotlib.figure.Figure at 0x106ece890>"
      ]
     },
     "metadata": {},
     "output_type": "display_data"
    }
   ],
   "source": [
    "for with_dend in [False, True]:\n",
    "    # For every addition of mechanism create figure show newer model\n",
    "    # Lines for reversal potentials Na, K and leak\n",
    "    neuron.h.tstop = 100\n",
    "\n",
    "    soma.gkbar_hh = 0.01\n",
    "    soma.gnabar_hh = 0.1\n",
    "\n",
    "    if with_dend:\n",
    "        dend.connect(soma)\n",
    "    else:\n",
    "        neuron.h.disconnect(sec=dend) # disconnect dend for now\n",
    "        \n",
    "    neuron.h.run()\n",
    "\n",
    "    # Convert the NEURON vectors to numpy arrays\n",
    "    time_py = time.to_python()\n",
    "    voltage_py = voltage.to_python()\n",
    "\n",
    "    plot_tv(time_py, voltage_py, show=False, label='with dend' if with_dend else 'without dend')\n",
    "\n",
    "plt.legend()\n",
    "plt.show()"
   ]
  },
  {
   "cell_type": "markdown",
   "metadata": {},
   "source": [
    "**Question**: What happened, what could we do to save the action potential ?"
   ]
  },
  {
   "cell_type": "markdown",
   "metadata": {},
   "source": [
    "**Answer**: By connecting the dendrite to the soma we have created an extra current sink. The leak current of the dendrite now allows more current to escape from our neuron. Also the capacitance of the dendrite changes the dynamics of the electrical circuit."
   ]
  },
  {
   "cell_type": "markdown",
   "metadata": {},
   "source": [
    "**Exercise**: Try to save the APs in the soma after the dendrites are connected by changing the values of dend_ra and dend_gl in the code below:"
   ]
  },
  {
   "cell_type": "code",
   "execution_count": 32,
   "metadata": {
    "collapsed": false
   },
   "outputs": [
    {
     "data": {
      "image/png": "[encoded data removed]",
      "text/plain": [
       "<matplotlib.figure.Figure at 0x106f574d0>"
      ]
     },
     "metadata": {},
     "output_type": "display_data"
    }
   ],
   "source": [
    "dend_ra = 100\n",
    "dend_gl = 5e-4\n",
    "\n",
    "for with_dend in [False, True]:\n",
    "    # For every addition of mechanism create figure show newer model\n",
    "    # Lines for reversal potentials Na, K and leak\n",
    "    neuron.h.tstop = 100\n",
    "\n",
    "    soma.gkbar_hh = 0.01\n",
    "    soma.gnabar_hh = 0.1\n",
    "\n",
    "    dend.el_hh = -65 # Reversal potential leak current, mV\n",
    "    dend.gl_hh = dend_gl # Leak conductance, S/cm^2\n",
    "    dend.Ra = dend_ra\n",
    "    \n",
    "    if with_dend:\n",
    "        dend.connect(soma)\n",
    "    else:\n",
    "        neuron.h.disconnect(sec=dend) # disconnect dend for now\n",
    "        \n",
    "    neuron.h.run()\n",
    "\n",
    "    # Convert the NEURON vectors to numpy arrays\n",
    "    time_py = time.to_python()\n",
    "    voltage_py = voltage.to_python()\n",
    "\n",
    "    plot_tv(time_py, voltage_py, show=False, label='with dend' if with_dend else 'without dend')\n",
    "\n",
    "plt.legend()\n",
    "plt.show()"
   ]
  },
  {
   "cell_type": "markdown",
   "metadata": {},
   "source": [
    "**Answer exercise**: Increase dend_ra or decrease dend_gl"
   ]
  },
  {
   "cell_type": "markdown",
   "metadata": {},
   "source": [
    "## Voltage attenuation along the dendrite"
   ]
  },
  {
   "cell_type": "markdown",
   "metadata": {},
   "source": [
    "While the AP is travelling along this passive dendrite, its height will attenuate.\n",
    "To show this, we can plot the voltage at different locations along the dendrite:"
   ]
  },
  {
   "cell_type": "code",
   "execution_count": 33,
   "metadata": {
    "collapsed": false
   },
   "outputs": [
    {
     "data": {
      "image/png": "[encoded data removed]",
      "text/plain": [
       "<matplotlib.figure.Figure at 0x106048390>"
      ]
     },
     "metadata": {},
     "output_type": "display_data"
    },
    {
     "data": {
      "image/png": "[encoded data removed]",
      "text/plain": [
       "<matplotlib.figure.Figure at 0x1071e3bd0>"
      ]
     },
     "metadata": {},
     "output_type": "display_data"
    }
   ],
   "source": [
    "dend.Ra = 200\n",
    "dend.gl_hh = 5e-4\n",
    "\n",
    "voltage_dend = {}\n",
    "\n",
    "# distances are in percentage of dendritic length\n",
    "# 1.0 is at end of dendrite, 0.0 at connection with soma\n",
    "distance_range = numpy.arange(0, 1.1, 0.1)\n",
    "for distance in distance_range:\n",
    "    voltage_dend[distance] = neuron.h.Vector()\n",
    "    voltage_dend[distance].record(dend(distance)._ref_v);\n",
    " \n",
    "neuron.h.tstop = 40\n",
    "neuron.h.run()\n",
    "\n",
    "voltage_dend_py = {distance: array.to_python() for (distance, array) in voltage_dend.iteritems()}\n",
    "\n",
    "for distance in distance_range:\n",
    "    plot_tv(time, voltage_dend_py[distance], show=False, label='%.0f%% of dend length' % (distance*100))\n",
    "    \n",
    "plt.legend()\n",
    "plt.show()\n",
    "\n",
    "max_voltage_dend = []\n",
    "for distance in distance_range:\n",
    "    max_voltage_dend.append(max(voltage_dend_py[distance]))\n",
    "\n",
    "plt.plot(distance_range*100, max_voltage_dend, 'o')\n",
    "plt.xlabel('percentage of dend length')\n",
    "plt.ylabel('Max voltage (mV)')\n",
    "plt.show()"
   ]
  },
  {
   "cell_type": "markdown",
   "metadata": {},
   "source": [
    "## Adding a synapse"
   ]
  },
  {
   "cell_type": "markdown",
   "metadata": {},
   "source": [
    "When we want to start connecting cells, we will need chemical synapses. \n",
    "In NEURON a synapse is representing as a 'point process'. Such processes are located at a specific location along the morphology and they will in general inject some current into the cell.\n",
    "\n",
    "NEURON has several builtin synapse types. In this tutorial we will use the ExpSyn process.\n",
    "This is a synapse with single exponential decay of its conductance.\n",
    "The equation to calculate the current generated by this synapse is:\n",
    "\n",
    "$$I_{syn} = g_{syn}*(V_{m} - E_{syn})$$\n",
    "\n",
    "with\n",
    "\n",
    "$$\\frac{dg_{syn}}{dt} = \\frac{-g_{syn}}{\\tau}$$\n",
    "\n",
    "$\\tau$ is the time constant of the decay.\n",
    "\n",
    "Every time an event arrives at the synapse, the conductance of the synapse is increased by its weight (in microsiemens)\n",
    "\n",
    "$$g_{syn} = g_{syn} + weight$$\n"
   ]
  },
  {
   "cell_type": "markdown",
   "metadata": {},
   "source": [
    "Let's add such a synapse to the dendrite:"
   ]
  },
  {
   "cell_type": "code",
   "execution_count": 34,
   "metadata": {
    "collapsed": true
   },
   "outputs": [],
   "source": [
    "expsyn = neuron.h.ExpSyn(.5, sec=dend) # We add a synapse to the middle (.5) of the dendrite"
   ]
  },
  {
   "cell_type": "markdown",
   "metadata": {},
   "source": [
    "To stimulate the synapse we create a NetStim object. It basically plays the role of a presynaptic cell. The attributes of this object specify how many times we want to stimulate, with which interval and when we want to start. The noise attribute determines the stochasticity of the process, 0 means completely regular firing."
   ]
  },
  {
   "cell_type": "code",
   "execution_count": 35,
   "metadata": {
    "collapsed": true
   },
   "outputs": [],
   "source": [
    "netstim = neuron.h.NetStim()\n",
    "netstim.interval = 5\n",
    "netstim.number = 5\n",
    "netstim.start = 20\n",
    "netstim.noise = 0"
   ]
  },
  {
   "cell_type": "markdown",
   "metadata": {},
   "source": [
    "This NetStim needs to be connected to the cell. A NetCon object acts as a connector between a presynaptic and postsynaptic cell."
   ]
  },
  {
   "cell_type": "code",
   "execution_count": 36,
   "metadata": {
    "collapsed": false
   },
   "outputs": [],
   "source": [
    "netcon = neuron.h.NetCon(netstim, expsyn)\n",
    "netcon.weight[0] = 1.0"
   ]
  },
  {
   "cell_type": "markdown",
   "metadata": {},
   "source": [
    "And now we can simulate:"
   ]
  },
  {
   "cell_type": "code",
   "execution_count": 37,
   "metadata": {
    "collapsed": false
   },
   "outputs": [
    {
     "data": {
      "image/png": "[encoded data removed]",
      "text/plain": [
       "<matplotlib.figure.Figure at 0x1071c5f90>"
      ]
     },
     "metadata": {},
     "output_type": "display_data"
    }
   ],
   "source": [
    "iclamp.amp = 0\n",
    "neuron.h.tstop = 80\n",
    "neuron.h.run()\n",
    "\n",
    "time_py = time.to_python()\n",
    "voltage_py = voltage.to_python()\n",
    "\n",
    "plot_tv(time_py, voltage_py)"
   ]
  },
  {
   "cell_type": "markdown",
   "metadata": {},
   "source": [
    "As you can see, there are 5 events arriving in the postsynaptic cell. Each events injects a certain current in the cell, and slowly decays afterwards."
   ]
  },
  {
   "cell_type": "markdown",
   "metadata": {},
   "source": [
    "## Connecting two cells"
   ]
  },
  {
   "cell_type": "markdown",
   "metadata": {},
   "source": [
    "In our last example we connect two cells together. \n",
    "We make a presynaptic cell and inject a current clamp into it so that it spikes. \n",
    "By connecting this cell to a postsynaptic cell, that doesn't receive a current clamp, we can make the second cell fire too."
   ]
  },
  {
   "cell_type": "code",
   "execution_count": 38,
   "metadata": {
    "collapsed": false
   },
   "outputs": [
    {
     "data": {
      "image/png": "[encoded data removed]",
      "text/plain": [
       "<matplotlib.figure.Figure at 0x10761ef50>"
      ]
     },
     "metadata": {},
     "output_type": "display_data"
    }
   ],
   "source": [
    "soma_pre = neuron.h.Section(name='soma')\n",
    "soma_pre.L = 40\n",
    "soma_pre.diam = 40\n",
    "soma_pre.insert('hh')\n",
    "\n",
    "iclamp_pre = neuron.h.IClamp(.5, sec=soma_pre)\n",
    "iclamp_pre.amp = 1.0 # nA\n",
    "iclamp_pre.delay = 10 # ms\n",
    "iclamp_pre.dur = 50 # ms\n",
    "\n",
    "time_pre = neuron.h.Vector()\n",
    "voltage_pre = neuron.h.Vector()\n",
    "\n",
    "time_pre.record(neuron.h._ref_t)\n",
    "voltage_pre.record(soma_pre(.5)._ref_v);\n",
    "\n",
    "expsyn.tau = .9\n",
    "netcon_pre = neuron.h.NetCon(soma_pre(.5)._ref_v, expsyn, sec=soma_pre)\n",
    "netcon_pre.weight[0] = 1\n",
    "\n",
    "if 'netstim' in locals():\n",
    "    del netstim\n",
    "if 'netcon' in locals():\n",
    "    del netcon\n",
    "\n",
    "neuron.h.run()\n",
    "\n",
    "time_py = time.to_python()\n",
    "voltage_py = voltage.to_python()\n",
    "\n",
    "time_pre_py = time_pre.to_python()\n",
    "voltage_pre_py = voltage_pre.to_python()\n",
    "\n",
    "plot_tv(time_pre_py, voltage_pre_py, show=False, label='presynaptic')\n",
    "plot_tv(time_py, voltage_py, show=False, label='postsynaptic')\n",
    "plt.legend()\n",
    "plt.show()\n",
    "\n",
    "del netcon_pre"
   ]
  },
  {
   "cell_type": "code",
   "execution_count": null,
   "metadata": {
    "collapsed": true
   },
   "outputs": [],
   "source": []
  }
 ],
 "metadata": {
  "kernelspec": {
   "display_name": "Python 2",
   "language": "python",
   "name": "python2"
  },
  "language_info": {
   "codemirror_mode": {
    "name": "ipython",
    "version": 2
   },
   "file_extension": ".py",
   "mimetype": "text/x-python",
   "name": "python",
   "nbconvert_exporter": "python",
   "pygments_lexer": "ipython2",
   "version": "2.7.13"
  }
 },
 "nbformat": 4,
 "nbformat_minor": 2
}
