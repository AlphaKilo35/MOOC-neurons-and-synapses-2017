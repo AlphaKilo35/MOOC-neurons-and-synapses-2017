{
 "cells": [
  {
   "cell_type": "markdown",
   "metadata": {},
   "source": [
    "# NEURON tutorial: Ball-and-stick electrical model with synapse"
   ]
  },
  {
   "cell_type": "markdown",
   "metadata": {},
   "source": [
    "## Introduction"
   ]
  },
  {
   "cell_type": "markdown",
   "metadata": {},
   "source": [
    "In this tutorial we will give an introduction to the NEURON simulator. You will learn how to:\n",
    "* **Load** the simulator in Python\n",
    "* Construct a **single compartmental electrical** model\n",
    "* **Run a simulation**, record the membrane voltage of the model and inject an external current\n",
    "* **Add ion channels** to the membrane of the model\n",
    "* Extend the model with a simple **dendrite**\n",
    "* **Add a synapse** to the model\n",
    "* **Connect** two cells"
   ]
  },
  {
   "cell_type": "markdown",
   "metadata": {
    "collapsed": true
   },
   "source": [
    "## Loading the NEURON simulator"
   ]
  },
  {
   "cell_type": "markdown",
   "metadata": {
    "collapsed": true
   },
   "source": [
    "We first import the NEURON Python module and a standard library with some convenient functionality"
   ]
  },
  {
   "cell_type": "code",
   "execution_count": 3,
   "metadata": {
    "collapsed": true
   },
   "outputs": [],
   "source": [
    "import neuron"
   ]
  },
  {
   "cell_type": "markdown",
   "metadata": {},
   "source": [
    "Historically the NEURON simulator was controlled using the [HOC language](https://www.neuron.yale.edu/neuron/static/new_doc/programming/hocsyntax.html).\n",
    "More and more scientists are switching to the Python interface of NEURON. In Python there is something called the [HOCObject](https://www.neuron.yale.edu/neuron/static/docs/help/neuron/neuron/classes/python.html#HocObject) which be accessed by 'h' property of the neuron module, and which contains the HOC functionality of NEURON. For example, to load the 'stdrun.hoc' file which contains some handy functionality one calls the HOC function load_file using:"
   ]
  },
  {
   "cell_type": "code",
   "execution_count": 4,
   "metadata": {
    "collapsed": false
   },
   "outputs": [
    {
     "name": "stdout",
     "output_type": "stream",
     "text": [
      "<hoc.HocObject object at 0x10acc2a98>\n"
     ]
    }
   ],
   "source": [
    "print neuron.h\n",
    "# Load external files\n",
    "neuron.h.load_file(\"stdrun.hoc\");"
   ]
  },
  {
   "cell_type": "markdown",
   "metadata": {},
   "source": [
    "To make sure we start from a clean state we initialise the simulator"
   ]
  },
  {
   "cell_type": "code",
   "execution_count": 5,
   "metadata": {
    "collapsed": false
   },
   "outputs": [],
   "source": [
    "neuron.h.stdinit();"
   ]
  },
  {
   "cell_type": "markdown",
   "metadata": {},
   "source": [
    "It is important to know that all the values used in NEURON have a certain default unit. \n",
    "The list of the defaults can be accessed here: https://www.neuron.yale.edu/neuron/static/docs/units/unitchart.html\n",
    "\n",
    "For now the most important ones are:\n",
    "* **length**: micrometer (um)\n",
    "* **time**: milliseconds (ms)\n",
    "* **voltage**: millivolt (mV)\n",
    "* **capacitance**: microfarad/cm2 (uf/cm2)"
   ]
  },
  {
   "cell_type": "markdown",
   "metadata": {},
   "source": [
    "## Constructing a neuron consisting of one compartment"
   ]
  },
  {
   "cell_type": "markdown",
   "metadata": {},
   "source": [
    "The basic structure of a cell in NEURON is a set of interconnected cylinders (called segments or compartments). Each of these cylinders represents an isopotential part of the cell.\n",
    "\n",
    "**Drawing of a set of compartments**\n",
    "\n",
    "*Add drawing -> 1 segment -> 5 segments (how to address them)* ?\n",
    "\n",
    "The segments between the branch points are grouped together in sections. The soma of a cell is in general one section of the cell.\n",
    "Let's start with creating a cell with just a soma:"
   ]
  },
  {
   "cell_type": "code",
   "execution_count": 6,
   "metadata": {
    "collapsed": false
   },
   "outputs": [
    {
     "name": "stdout",
     "output_type": "stream",
     "text": [
      "Soma object: <nrn.Section object at 0x10b77fa30>\n",
      "Soma object name:  soma\n",
      "Number of segments in the soma: 1\n"
     ]
    }
   ],
   "source": [
    "soma = neuron.h.Section(name='soma')\n",
    "\n",
    "print \"Soma object:\", soma\n",
    "print \"Soma object name: \", soma.name()\n",
    "\n",
    "print \"Number of segments in the soma:\", soma.nseg"
   ]
  },
  {
   "cell_type": "code",
   "execution_count": 7,
   "metadata": {
    "collapsed": true
   },
   "outputs": [],
   "source": [
    "# 3D coordinates are not important for ephys\n",
    "# Show how to change 3d points ?\n",
    "\n",
    "# everything neuron in cylinder -> also soma (is a section by design) !\n",
    "# surface is most important\n",
    "# mostly talking about currents through surface\n",
    "\n",
    "# explain sec= ..."
   ]
  },
  {
   "cell_type": "markdown",
   "metadata": {},
   "source": [
    "As we know the soma is represented as a cylinder. We can set the length and diameter of this section."
   ]
  },
  {
   "cell_type": "code",
   "execution_count": 8,
   "metadata": {
    "collapsed": false
   },
   "outputs": [
    {
     "name": "stdout",
     "output_type": "stream",
     "text": [
      "Soma length: 40.000000 micron\n",
      "Soma diameter: 40.000000 micron\n"
     ]
    }
   ],
   "source": [
    "soma.L = 40\n",
    "soma.diam = 40\n",
    "print \"Soma length: %f micron\" % soma.L \n",
    "print \"Soma diameter: %f micron\" % soma.diam\n",
    "\n",
    "# plot this in some way"
   ]
  },
  {
   "cell_type": "markdown",
   "metadata": {},
   "source": [
    "We can calculate the surface area of the soma using the 'area()' function, and compare it to the equation to calculate the surface area of a cylinder:"
   ]
  },
  {
   "cell_type": "code",
   "execution_count": 9,
   "metadata": {
    "collapsed": false
   },
   "outputs": [
    {
     "name": "stdout",
     "output_type": "stream",
     "text": [
      "Soma area according to cylinder surface area equation: 5026.548246 micron^2\n",
      "Soma area according to NEURON: 5026.548246 micron^2\n",
      "Both values match: True\n"
     ]
    }
   ],
   "source": [
    "soma_area_eq = 2 * neuron.h.PI * soma.L * soma.diam / 2\n",
    "print \"Soma area according to cylinder surface area equation: %f micron^2\" % soma_area_eq\n",
    "\n",
    "soma_area = neuron.h.area(0.5, sec=soma)\n",
    "print \"Soma area according to NEURON: %f micron^2\" % soma_area\n",
    "\n",
    "print \"Both values match: %s\" % (soma_area_eq == soma_area)"
   ]
  },
  {
   "cell_type": "markdown",
   "metadata": {},
   "source": [
    "In general the soma of a neuron is rather spherical than cylindrical. You might have found it strange that we represent the soma by a cylinder in NEURON. However, the following equation shows that it actually doesn't really matter, the surface area of a sphere with the same radius is exactly the same:"
   ]
  },
  {
   "cell_type": "code",
   "execution_count": 10,
   "metadata": {
    "collapsed": false
   },
   "outputs": [
    {
     "name": "stdout",
     "output_type": "stream",
     "text": [
      "Soma area according to sphere surface area equation: 5026.548246 micron^2\n"
     ]
    }
   ],
   "source": [
    "soma_sphere_area_eq = 4 * neuron.h.PI * pow(soma.diam / 2, 2)\n",
    "print \"Soma area according to sphere surface area equation: %f micron^2\" % soma_sphere_area_eq"
   ]
  },
  {
   "cell_type": "markdown",
   "metadata": {},
   "source": [
    "So now we have defined the shape of this single compartmental cell. Electrically the only component that is present for now is the [capacitance](https://en.wikipedia.org/wiki/Capacitance) of the cell membrane. We can retrieve or set the specific membrane capacitance by accessing the 'cm' field. "
   ]
  },
  {
   "cell_type": "code",
   "execution_count": 11,
   "metadata": {
    "collapsed": false
   },
   "outputs": [
    {
     "name": "stdout",
     "output_type": "stream",
     "text": [
      "Specific capacitance: 1.000000 uf/cm2\n"
     ]
    }
   ],
   "source": [
    "# Units are mostly per surface area\n",
    "# uf/cm2\n",
    "print \"Specific capacitance: %f uf/cm2\" % soma.cm"
   ]
  },
  {
   "cell_type": "markdown",
   "metadata": {},
   "source": [
    "To get the total capacitance of the soma, we have to multiply this by the area. We have to be careful with the units though !"
   ]
  },
  {
   "cell_type": "code",
   "execution_count": 12,
   "metadata": {
    "collapsed": false
   },
   "outputs": [
    {
     "name": "stdout",
     "output_type": "stream",
     "text": [
      "Total soma capacitance: 0.000050 uf\n"
     ]
    }
   ],
   "source": [
    "soma_tcap = (soma.cm * (soma_area / pow(1e4, 2)))\n",
    "print \"Total soma capacitance: %f uf\" % (soma.cm * (soma_area / pow(1e4, 2)))"
   ]
  },
  {
   "cell_type": "markdown",
   "metadata": {},
   "source": [
    "## Running a simulation"
   ]
  },
  {
   "cell_type": "markdown",
   "metadata": {},
   "source": [
    "Let's now run a simulation over time. We will record the [membrane voltage](https://en.wikipedia.org/wiki/Membrane_potential) in the middle of the soma during the simulation:"
   ]
  },
  {
   "cell_type": "code",
   "execution_count": 13,
   "metadata": {
    "collapsed": false
   },
   "outputs": [
    {
     "name": "stdout",
     "output_type": "stream",
     "text": [
      "Membrane voltage soma: -65.000000 mV\n"
     ]
    }
   ],
   "source": [
    "print \"Membrane voltage soma: %f mV\" % soma(.5).v # mV"
   ]
  },
  {
   "cell_type": "markdown",
   "metadata": {},
   "source": [
    "As you can see the voltage of the cell has been initialised to -65 mV, which roughly corresponds to a typical value in neurons at rest (also called the *resting membrane potential*)."
   ]
  },
  {
   "cell_type": "markdown",
   "metadata": {},
   "source": [
    "The simulator will integrate the equations over time. The current time is saved in a variable called 't':"
   ]
  },
  {
   "cell_type": "code",
   "execution_count": 14,
   "metadata": {
    "collapsed": false
   },
   "outputs": [
    {
     "name": "stdout",
     "output_type": "stream",
     "text": [
      "Current time: 0.000000 ms\n"
     ]
    }
   ],
   "source": [
    "print \"Current time: %f ms\" % neuron.h.t # ms"
   ]
  },
  {
   "cell_type": "markdown",
   "metadata": {},
   "source": [
    "When the run() function is called, the simulation will run until a predefined time stored in the the 'tstop' variable. Every timestep, defined by 'dt', a new voltage value will be calculated. "
   ]
  },
  {
   "cell_type": "code",
   "execution_count": 15,
   "metadata": {
    "collapsed": false
   },
   "outputs": [
    {
     "name": "stdout",
     "output_type": "stream",
     "text": [
      "Simulation stop time: 100.000000 ms\n",
      "Integration time step: 0.025000 ms\n"
     ]
    }
   ],
   "source": [
    "# Explain tstop\n",
    "neuron.h.tstop = 100\n",
    "print \"Simulation stop time: %f ms\" % neuron.h.tstop\n",
    "print \"Integration time step: %f ms\" % neuron.h.dt"
   ]
  },
  {
   "cell_type": "markdown",
   "metadata": {},
   "source": [
    "To record the time and voltage we create two NEURON Vector objects. These objects have a 'record' method that, when passed a reference to a variable, will record the value of that variable in the vector during the simulation."
   ]
  },
  {
   "cell_type": "code",
   "execution_count": 16,
   "metadata": {
    "collapsed": false
   },
   "outputs": [],
   "source": [
    "time = neuron.h.Vector()\n",
    "voltage = neuron.h.Vector()\n",
    "\n",
    "time.record(neuron.h._ref_t)\n",
    "voltage.record(soma(.5)._ref_v);"
   ]
  },
  {
   "cell_type": "code",
   "execution_count": 17,
   "metadata": {
    "collapsed": false
   },
   "outputs": [
    {
     "data": {
      "image/png": "[encoded data removed]",
      "text/plain": [
       "<matplotlib.figure.Figure at 0x10b922e90>"
      ]
     },
     "metadata": {},
     "output_type": "display_data"
    }
   ],
   "source": [
    "neuron.h.run()\n",
    "\n",
    "# Convert the NEURON vectors to numpy arrays\n",
    "time_py = time.to_python()\n",
    "voltage_py = voltage.to_python()\n",
    "\n",
    "def plot_tv(time_array, voltage_array, show=True, label=None):\n",
    "    import matplotlib.pyplot as plt\n",
    "    plt.plot(time_array, voltage_array, label=label)\n",
    "    plt.xlabel('Time (ms)')\n",
    "    plt.ylabel('Membrane voltage (mV)')\n",
    "    if show:\n",
    "        plt.show()\n",
    "    \n",
    "plot_tv(time_py, voltage_py)"
   ]
  },
  {
   "cell_type": "markdown",
   "metadata": {},
   "source": [
    "So, basically the voltage has stayed the same over time. We can see why this happened by looking at the following equation NEURON is integrating:\n",
    "\n",
    "$$C_{m} dV/dt = I_{m}$$\n",
    "\n",
    "Basically the change in voltage is related to the current going across the membrane. Since we don't have any mechanisms that allow currents to cross the membrane, $I_{m}$ is zero, and our voltage stay the same:\n",
    "\n",
    "$$dV = I_{m} dt/C_{m}$$"
   ]
  },
  {
   "cell_type": "markdown",
   "metadata": {},
   "source": [
    "## Injecting a current"
   ]
  },
  {
   "cell_type": "markdown",
   "metadata": {},
   "source": [
    "Let's now see how we can charge the cell membrane capacitance. For this we stick a virtual electrode in the center of the soma, and inject current using a [current clamp](https://en.wikipedia.org/wiki/Electrophysiology#Current_clamp). We specify an amplitude (in nA), a delay and a duration for our stimulus."
   ]
  },
  {
   "cell_type": "code",
   "execution_count": 18,
   "metadata": {
    "collapsed": true
   },
   "outputs": [],
   "source": [
    "# Add figure ?\n",
    "iclamp = neuron.h.IClamp(.5, sec=soma)\n",
    "iclamp.amp = 0.1 # nA\n",
    "iclamp.delay = 10 # ms\n",
    "iclamp.dur = 50 # ms"
   ]
  },
  {
   "cell_type": "code",
   "execution_count": 19,
   "metadata": {
    "collapsed": false
   },
   "outputs": [
    {
     "data": {
      "image/png": "[encoded data removed]",
      "text/plain": [
       "<matplotlib.figure.Figure at 0x10b7c4790>"
      ]
     },
     "metadata": {},
     "output_type": "display_data"
    }
   ],
   "source": [
    "neuron.h.run()\n",
    "\n",
    "# Convert the NEURON vectors to numpy arrays\n",
    "time_py = time.to_python()\n",
    "voltage_py = voltage.to_python()\n",
    "\n",
    "plot_tv(time_py, voltage_py)"
   ]
  },
  {
   "cell_type": "markdown",
   "metadata": {},
   "source": [
    "Let's check if this is the value we expected from the equation\n",
    "\n",
    "$$C_{m} dV/dt = I_{m}$$"
   ]
  },
  {
   "cell_type": "code",
   "execution_count": 20,
   "metadata": {
    "collapsed": false
   },
   "outputs": [
    {
     "name": "stdout",
     "output_type": "stream",
     "text": [
      "Observed dV: 99.471839 mV\n",
      "Calculated dV: 99.471839 mV\n",
      "Simulated dV matches equation dV: True\n"
     ]
    }
   ],
   "source": [
    "V1 = -65 # Voltage before stimulus, mV\n",
    "V2 = soma.v # Voltage after stimulus, mV\n",
    "deltaV = V2 - V1 # Voltage difference, mV\n",
    "Im = iclamp.amp # nA\n",
    "deltaT = iclamp.dur # ms\n",
    "soma_tcap # total soma membrane capacitance, uF\n",
    "\n",
    "deltaV_eq = Im * deltaT / soma_tcap # in nA * ms / uF == microvolt\n",
    "deltaV_eq /= 1e3 # Correction factor to get mV\n",
    "\n",
    "print 'Observed dV: %f mV' % deltaV\n",
    "print 'Calculated dV: %f mV' % deltaV_eq\n",
    "print 'Simulated dV matches equation dV: %s' % (deltaV - deltaV_eq < 1e-6)"
   ]
  },
  {
   "cell_type": "markdown",
   "metadata": {},
   "source": [
    "## Adding a leak conductance"
   ]
  },
  {
   "cell_type": "markdown",
   "metadata": {},
   "source": [
    "We'll now start adding transmembrane currents to the model as described in the [Hodgkin-Huxley model](https://en.wikipedia.org/wiki/Hodgkin–Huxley_model).\n",
    "To enable the equations for this model, we insert the 'hh' mechanism in the soma:"
   ]
  },
  {
   "cell_type": "code",
   "execution_count": 22,
   "metadata": {
    "collapsed": false
   },
   "outputs": [],
   "source": [
    "soma.insert('hh');"
   ]
  },
  {
   "cell_type": "markdown",
   "metadata": {},
   "source": [
    "Now NEURON will integrate the following equation to get calculate the membrane voltage over time:\n",
    "\n",
    "$$C_{m} dV/dt = I_{Na} + I_{K} + I_{leak} + I_{ext} = g_{Na}(V)*(V - E_{Na}) + g_{K}(V)*(V - E_{K}) + g_{leak}*(V - E_{leak}) + I_{ext}$$\n",
    "\n",
    "We have a sodium and potassium current with voltage dependent conductance and a leakage current with a voltage independent conductance."
   ]
  },
  {
   "cell_type": "markdown",
   "metadata": {},
   "source": [
    "Initially we'll set the Na and K conductance to zero:"
   ]
  },
  {
   "cell_type": "code",
   "execution_count": 24,
   "metadata": {
    "collapsed": false
   },
   "outputs": [],
   "source": [
    "soma.gkbar_hh = 0.0\n",
    "soma.gnabar_hh = 0.0"
   ]
  },
  {
   "cell_type": "markdown",
   "metadata": {},
   "source": [
    "So we get:\n",
    "\n",
    "$$C_{m} dV/dt = g_{leak}*(V - E_{leak}) + I_{ext}$$"
   ]
  },
  {
   "cell_type": "markdown",
   "metadata": {},
   "source": [
    "The value for the leak conductance is set using the 'gl_hh' attribute. "
   ]
  },
  {
   "cell_type": "code",
   "execution_count": 25,
   "metadata": {
    "collapsed": true
   },
   "outputs": [],
   "source": [
    "soma.gl_hh = 5e-4 # Leak conductance, S/cm^2"
   ]
  },
  {
   "cell_type": "code",
   "execution_count": null,
   "metadata": {
    "collapsed": true
   },
   "outputs": [],
   "source": []
  },
  {
   "cell_type": "code",
   "execution_count": null,
   "metadata": {
    "collapsed": true
   },
   "outputs": [],
   "source": [
    "soma.el_hh = -65 # Reversal potential leak current, mV"
   ]
  },
  {
   "cell_type": "code",
   "execution_count": 20,
   "metadata": {
    "collapsed": false
   },
   "outputs": [
    {
     "data": {
      "image/png": "[encoded data removed]",
      "text/plain": [
       "<matplotlib.figure.Figure at 0x110cf1610>"
      ]
     },
     "metadata": {},
     "output_type": "display_data"
    }
   ],
   "source": [
    "# explain reversal potential\n",
    "# leak current 'fights' current injection\n",
    "# explain 'hh'\n",
    "# add question: which change do you see ?\n",
    "# explain graph: doesn't go as high, shape different, and goes back reversal potential after injection\n",
    "# exercise -> show how final voltage is calculated ?\n",
    "\n",
    "# Add tstop everywhere (or add reset function)\n",
    "\n",
    "neuron.h.tstop = 100\n",
    "\n",
    "\n",
    "neuron.h.run()\n",
    "\n",
    "# Convert the NEURON vectors to numpy arrays\n",
    "time_py = time.to_python()\n",
    "voltage_py = voltage.to_python()\n",
    "\n",
    "plot_tv(time_py, voltage_py)"
   ]
  },
  {
   "cell_type": "markdown",
   "metadata": {},
   "source": [
    "# Adding active ion channels"
   ]
  },
  {
   "cell_type": "code",
   "execution_count": null,
   "metadata": {
    "collapsed": true
   },
   "outputs": [],
   "source": []
  },
  {
   "cell_type": "code",
   "execution_count": 21,
   "metadata": {
    "collapsed": false
   },
   "outputs": [
    {
     "name": "stdout",
     "output_type": "stream",
     "text": [
      "50.0\n",
      "-77.0\n"
     ]
    },
    {
     "data": {
      "image/png": "[encoded data removed]",
      "text/plain": [
       "<matplotlib.figure.Figure at 0x110e44850>"
      ]
     },
     "metadata": {},
     "output_type": "display_data"
    }
   ],
   "source": [
    "print soma.ena # explain e_na\n",
    "print soma.ek\n",
    "\n",
    "# For every addition of mechanism create figure show newer model\n",
    "# Lines for reversal potentials Na, K and leak\n",
    "\n",
    "soma.gkbar_hh = 0.01\n",
    "soma.gnabar_hh = 0.1\n",
    "\n",
    "neuron.h.run()\n",
    "\n",
    "# Convert the NEURON vectors to numpy arrays\n",
    "time_py = time.to_python()\n",
    "voltage_py = voltage.to_python()\n",
    "\n",
    "plot_tv(time_py, voltage_py)"
   ]
  },
  {
   "cell_type": "code",
   "execution_count": 22,
   "metadata": {
    "collapsed": false
   },
   "outputs": [
    {
     "data": {
      "image/png": "[encoded data removed]",
      "text/plain": [
       "<matplotlib.figure.Figure at 0x110cfdd50>"
      ]
     },
     "metadata": {},
     "output_type": "display_data"
    }
   ],
   "source": [
    "import matplotlib.pyplot as plt\n",
    "import numpy\n",
    "\n",
    "\n",
    "soma.gkbar_hh = 0.01\n",
    "soma.gnabar_hh = 0.1\n",
    "\n",
    "neuron.h.tstop=30\n",
    "\n",
    "neuron.h.run()\n",
    "\n",
    "# Convert the NEURON vectors to numpy arrays\n",
    "time_py = time.to_python()\n",
    "voltage_py = voltage.to_python()\n",
    "\n",
    "plt.plot(time_py, max(voltage_py)*numpy.ones(len(time_py)), 'r')\n",
    "plot_tv(time_py, voltage_py, show=False)\n",
    "\n",
    "soma.gnabar_hh = 0.15\n",
    "\n",
    "neuron.h.run()\n",
    "\n",
    "# Convert the NEURON vectors to numpy arrays\n",
    "time_py = time.to_python()\n",
    "voltage_py = voltage.to_python()\n",
    "\n",
    "\n",
    "plt.plot(time_py, max(voltage_py)*numpy.ones(len(time_py)), 'r')\n",
    "\n",
    "plot_tv(time_py, voltage_py)"
   ]
  },
  {
   "cell_type": "markdown",
   "metadata": {},
   "source": [
    "## Parameter sensitivity"
   ]
  },
  {
   "cell_type": "code",
   "execution_count": 23,
   "metadata": {
    "collapsed": false
   },
   "outputs": [
    {
     "data": {
      "image/png": "[encoded data removed]",
      "text/plain": [
       "<matplotlib.figure.Figure at 0x11109c490>"
      ]
     },
     "metadata": {},
     "output_type": "display_data"
    }
   ],
   "source": [
    "soma.gkbar_hh = 0.01\n",
    "\n",
    "# definitely mention critical value where state changes\n",
    "# show something with percentages\n",
    "# show value we were using before on plot\n",
    "\n",
    "max_voltages = []\n",
    "import numpy\n",
    "gnabar_range = numpy.arange(.05, 0.15, 0.001)\n",
    "for gnabar in gnabar_range:\n",
    "    soma.gnabar_hh = gnabar\n",
    "\n",
    "    neuron.h.run()\n",
    "\n",
    "    # Convert the NEURON vectors to numpy arrays\n",
    "    time_py = time.to_python()\n",
    "    voltage_py = voltage.to_python()\n",
    "    \n",
    "    max_voltages.append(max(voltage_py))\n",
    "\n",
    "plt.plot(gnabar_range, max_voltages, 'o')\n",
    "plt.show()"
   ]
  },
  {
   "cell_type": "markdown",
   "metadata": {},
   "source": [
    "# Exercise\n",
    "\n",
    "Do the same as above with K"
   ]
  },
  {
   "cell_type": "code",
   "execution_count": 24,
   "metadata": {
    "collapsed": false
   },
   "outputs": [
    {
     "name": "stdout",
     "output_type": "stream",
     "text": [
      "Linear equation max_voltage = -451.860461*gkbar + 47.203047\n"
     ]
    },
    {
     "data": {
      "image/png": "[encoded data removed]",
      "text/plain": [
       "<matplotlib.figure.Figure at 0x110e30190>"
      ]
     },
     "metadata": {},
     "output_type": "display_data"
    }
   ],
   "source": [
    "soma.gnabar_hh = 0.1\n",
    "\n",
    "max_voltages = []\n",
    "gkbar_range = numpy.arange(.001, 0.012, 0.001)\n",
    "import numpy\n",
    "for gkbar in gkbar_range:\n",
    "    soma.gkbar_hh = gkbar\n",
    "\n",
    "    neuron.h.run()\n",
    "\n",
    "    # Convert the NEURON vectors to numpy arrays\n",
    "    time_py = time.to_python()\n",
    "    voltage_py = voltage.to_python()\n",
    "    \n",
    "    max_voltages.append(max(voltage_py))\n",
    "\n",
    "plt.plot(gkbar_range, max_voltages, 'o')\n",
    "\n",
    "linear_coef = numpy.polyfit(gkbar_range, max_voltages, 1)\n",
    "print 'Linear equation max_voltage = %f*gkbar + %f' % tuple([x for x in linear_coef])\n",
    "\n",
    "plt.plot(gkbar_range, numpy.poly1d(linear_coef)(gkbar_range))\n",
    "\n",
    "plt.show()"
   ]
  },
  {
   "cell_type": "code",
   "execution_count": null,
   "metadata": {
    "collapsed": true
   },
   "outputs": [],
   "source": []
  },
  {
   "cell_type": "code",
   "execution_count": 25,
   "metadata": {
    "collapsed": true
   },
   "outputs": [],
   "source": [
    "dend = neuron.h.Section(name='dend')"
   ]
  },
  {
   "cell_type": "code",
   "execution_count": 26,
   "metadata": {
    "collapsed": false
   },
   "outputs": [
    {
     "data": {
      "text/plain": [
       "<nrn.Section at 0x1109b8f08>"
      ]
     },
     "execution_count": 26,
     "metadata": {},
     "output_type": "execute_result"
    }
   ],
   "source": [
    "dend.L = 400\n",
    "dend.diam = 2.0\n",
    "dend.nseg = 10\n",
    "\n",
    "dend.connect(soma)\n"
   ]
  },
  {
   "cell_type": "code",
   "execution_count": 27,
   "metadata": {
    "collapsed": false
   },
   "outputs": [
    {
     "name": "stdout",
     "output_type": "stream",
     "text": [
      "50.0\n",
      "-77.0\n"
     ]
    },
    {
     "data": {
      "image/png": "[encoded data removed]",
      "text/plain": [
       "<matplotlib.figure.Figure at 0x110e64c10>"
      ]
     },
     "metadata": {},
     "output_type": "display_data"
    }
   ],
   "source": [
    "print soma.ena # explain e_na\n",
    "print soma.ek\n",
    "\n",
    "# For every addition of mechanism create figure show newer model\n",
    "# Lines for reversal potentials Na, K and leak\n",
    "neuron.h.tstop = 100\n",
    "\n",
    "soma.gkbar_hh = 0.01\n",
    "soma.gnabar_hh = 0.1\n",
    "\n",
    "neuron.h.disconnect(sec=dend)\n",
    "\n",
    "\n",
    "neuron.h.run()\n",
    "\n",
    "# Convert the NEURON vectors to numpy arrays\n",
    "time_py = time.to_python()\n",
    "voltage_py = voltage.to_python()\n",
    "\n",
    "plot_tv(time_py, voltage_py, show=False)\n",
    "\n",
    "soma.gkbar_hh = 0.01\n",
    "soma.gnabar_hh = 0.1\n",
    "\n",
    "dend.connect(soma)\n",
    "\n",
    "dend.insert('hh')\n",
    "dend.el_hh = -65 # Reversal potential leak current, mV\n",
    "dend.gl_hh = 5e-4 # Leak conductance, S/cm^2\n",
    "\n",
    "\n",
    "dend.gkbar_hh = 0.0\n",
    "dend.gnabar_hh = 0.0\n",
    "\n",
    "neuron.h.run()\n",
    "\n",
    "# Convert the NEURON vectors to numpy arrays\n",
    "time_py = time.to_python()\n",
    "voltage_py = voltage.to_python()\n",
    "\n",
    "plot_tv(time_py, voltage_py)"
   ]
  },
  {
   "cell_type": "code",
   "execution_count": 28,
   "metadata": {
    "collapsed": false
   },
   "outputs": [
    {
     "name": "stdout",
     "output_type": "stream",
     "text": [
      "50.0\n",
      "-77.0\n",
      "35.4\n"
     ]
    },
    {
     "data": {
      "image/png": "[encoded data removed]",
      "text/plain": [
       "<matplotlib.figure.Figure at 0x110cfd110>"
      ]
     },
     "metadata": {},
     "output_type": "display_data"
    }
   ],
   "source": [
    "# Extra: What can you do to save the AP in the soma ?\n",
    "\n",
    "print soma.ena # explain e_na\n",
    "print soma.ek\n",
    "\n",
    "# For every addition of mechanism create figure show newer model\n",
    "# Lines for reversal potentials Na, K and leak\n",
    "neuron.h.tstop = 100\n",
    "\n",
    "soma.gkbar_hh = 0.01\n",
    "soma.gnabar_hh = 0.1\n",
    "\n",
    "neuron.h.disconnect(sec=dend)\n",
    "\n",
    "\n",
    "neuron.h.run()\n",
    "\n",
    "# Convert the NEURON vectors to numpy arrays\n",
    "time_py = time.to_python()\n",
    "voltage_py = voltage.to_python()\n",
    "\n",
    "plot_tv(time_py, voltage_py, show=False)\n",
    "\n",
    "soma.gkbar_hh = 0.01\n",
    "soma.gnabar_hh = 0.1\n",
    "\n",
    "dend.connect(soma)\n",
    "\n",
    "dend.insert('hh')\n",
    "dend.el_hh = -65 # Reversal potential leak current, mV\n",
    "dend.gl_hh = 5e-4 # Leak conductance, S/cm^2\n",
    "\n",
    "\n",
    "dend.gkbar_hh = 0.0\n",
    "dend.gnabar_hh = 0.0\n",
    "\n",
    "print dend.Ra\n",
    "dend.Ra = 500\n",
    "\n",
    "neuron.h.run()\n",
    "\n",
    "# Convert the NEURON vectors to numpy arrays\n",
    "time_py = time.to_python()\n",
    "voltage_py = voltage.to_python()\n",
    "\n",
    "plot_tv(time_py, voltage_py)\n"
   ]
  },
  {
   "cell_type": "code",
   "execution_count": 29,
   "metadata": {
    "collapsed": false
   },
   "outputs": [
    {
     "data": {
      "image/png": "[encoded data removed]",
      "text/plain": [
       "<matplotlib.figure.Figure at 0x110e4f890>"
      ]
     },
     "metadata": {},
     "output_type": "display_data"
    },
    {
     "data": {
      "image/png": "[encoded data removed]",
      "text/plain": [
       "<matplotlib.figure.Figure at 0x110f33f90>"
      ]
     },
     "metadata": {},
     "output_type": "display_data"
    }
   ],
   "source": [
    "voltage_dend = {}\n",
    "distance_range = numpy.arange(0, 1.1, 0.1)\n",
    "for distance in distance_range:\n",
    "    voltage_dend[distance] = neuron.h.Vector()\n",
    "    voltage_dend[distance].record(dend(distance)._ref_v);\n",
    " \n",
    "neuron.h.tstop = 40\n",
    "neuron.h.run()\n",
    "\n",
    "voltage_dend_py = {distance: array.to_python() for (distance, array) in voltage_dend.iteritems()}\n",
    "\n",
    "\n",
    "for distance in distance_range:\n",
    "    plot_tv(time, voltage_dend_py[distance], show=False, label=distance)\n",
    "    \n",
    "plt.legend()\n",
    "plt.show()\n",
    "\n",
    "max_voltage_dend = []\n",
    "for distance in distance_range:\n",
    "    max_voltage_dend.append(max(voltage_dend_py[distance]))\n",
    "\n",
    "plt.plot(distance_range, max_voltage_dend, 'o')\n",
    "plt.show()"
   ]
  },
  {
   "cell_type": "code",
   "execution_count": 30,
   "metadata": {
    "collapsed": true
   },
   "outputs": [],
   "source": [
    "expsyn = neuron.h.ExpSyn(.5, sec=dend)"
   ]
  },
  {
   "cell_type": "code",
   "execution_count": 59,
   "metadata": {
    "collapsed": false
   },
   "outputs": [
    {
     "data": {
      "image/png": "[encoded data removed]",
      "text/plain": [
       "<matplotlib.figure.Figure at 0x1118b0490>"
      ]
     },
     "metadata": {},
     "output_type": "display_data"
    }
   ],
   "source": [
    "iclamp.amp = 0\n",
    "neuron.h.tstop = 80\n",
    "\n",
    "# Explain name ExpSyn\n",
    "# Explain netstim -> other cell\n",
    "# Explain all the field\n",
    "\n",
    "netstim = neuron.h.NetStim()\n",
    "netstim.interval = 5\n",
    "netstim.number = 5\n",
    "netstim.start = 20\n",
    "netstim.noise = 0\n",
    "netcon = neuron.h.NetCon(netstim, expsyn)\n",
    "netcon.weight[0] = 1.0 # why [0] ?\n",
    "neuron.h.run()\n",
    "\n",
    "# Convert the NEURON vectors to numpy arrays\n",
    "time_py = time.to_python()\n",
    "voltage_py = voltage.to_python()\n",
    "\n",
    "plot_tv(time_py, voltage_py)\n",
    "\n",
    "del netstim\n",
    "del netcon"
   ]
  },
  {
   "cell_type": "code",
   "execution_count": 60,
   "metadata": {
    "collapsed": false
   },
   "outputs": [
    {
     "data": {
      "image/png": "[encoded data removed]",
      "text/plain": [
       "<matplotlib.figure.Figure at 0x110e7bc90>"
      ]
     },
     "metadata": {},
     "output_type": "display_data"
    }
   ],
   "source": [
    "soma2 = neuron.h.Section(name='soma')\n",
    "soma2.L = 40\n",
    "soma2.diam = 40\n",
    "soma2.insert('hh')\n",
    "\n",
    "\n",
    "iclamp2 = neuron.h.IClamp(.5, sec=soma2)\n",
    "iclamp2.amp = 1.0 # nA\n",
    "iclamp2.delay = 10 # ms\n",
    "iclamp2.dur = 50 # ms\n",
    "\n",
    "time2 = neuron.h.Vector()\n",
    "voltage2 = neuron.h.Vector()\n",
    "\n",
    "time2.record(neuron.h._ref_t)\n",
    "voltage2.record(soma2(.5)._ref_v);\n",
    "\n",
    "expsyn.tau = .9\n",
    "netcon2 = neuron.h.NetCon(soma2(.5)._ref_v, expsyn, sec=soma2)\n",
    "netcon2.weight[0] = 1 # why [0] ?\n",
    "\n",
    "neuron.h.run()\n",
    "\n",
    "time_py = time.to_python()\n",
    "voltage_py = voltage.to_python()\n",
    "\n",
    "time2_py = time2.to_python()\n",
    "voltage2_py = voltage2.to_python()\n",
    "\n",
    "plot_tv(time2, voltage2, show=False, label='presynaptic')\n",
    "plot_tv(time_py, voltage_py, show=False, label='postsynaptic')\n",
    "plt.legend()\n",
    "plt.show()\n",
    "\n",
    "del netcon2"
   ]
  },
  {
   "cell_type": "code",
   "execution_count": null,
   "metadata": {
    "collapsed": true
   },
   "outputs": [],
   "source": []
  }
 ],
 "metadata": {
  "kernelspec": {
   "display_name": "Python 2",
   "language": "python",
   "name": "python2"
  },
  "language_info": {
   "codemirror_mode": {
    "name": "ipython",
    "version": 2
   },
   "file_extension": ".py",
   "mimetype": "text/x-python",
   "name": "python",
   "nbconvert_exporter": "python",
   "pygments_lexer": "ipython2",
   "version": "2.7.13"
  }
 },
 "nbformat": 4,
 "nbformat_minor": 2
}
